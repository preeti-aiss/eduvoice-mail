{
  "nbformat": 4,
  "nbformat_minor": 0,
  "metadata": {
    "colab": {
      "name": "stable-diffusion.ipynb",
      "private_outputs": true,
      "provenance": []
    },
    "kernelspec": {
      "name": "python3",
      "display_name": "Python 3"
    },
    "language_info": {
      "name": "python"
    },
    "accelerator": "GPU",
    "gpuClass": "standard"
  },
  "cells": [
    {
      "cell_type": "code",
      "source": [
        "%pip install --quiet --upgrade diffusers transformers accelerate mediapy peft"
      ],
      "metadata": {
        "id": "ufD_d64nr08H"
      },
      "execution_count": null,
      "outputs": []
    },
    {
      "cell_type": "code",
      "source": [
        "import mediapy as media\n",
        "import random\n",
        "import sys\n",
        "import torch\n",
        "\n",
        "from diffusers import SanaSprintPipeline\n",
        "\n",
        "# NB: the largest model size (\"1.6B\") does not fit into memory on Google Colab.\n",
        "model_size = \"0.6B\"\n",
        "\n",
        "MAX_IMAGE_SIZE = 1024\n",
        "model_id = f\"Efficient-Large-Model/Sana_Sprint_{model_size}_{MAX_IMAGE_SIZE}px_diffusers\"\n",
        "dtype = torch.bfloat16\n",
        "device = \"cuda\"\n",
        "\n",
        "pipe = SanaSprintPipeline.from_pretrained(\n",
        "    model_id,\n",
        "    torch_dtype=dtype,\n",
        ").to(device)"
      ],
      "metadata": {
        "id": "bG2hkmSEvByV"
      },
      "execution_count": null,
      "outputs": []
    },
    {
      "cell_type": "code",
      "source": [
        "prompt = \"a photo of Pikachu fine dining with a view to the Eiffel Tower\"\n",
        "seed = random.randint(0, sys.maxsize)\n",
        "\n",
        "# Pick a value between 1 and 50:\n",
        "num_inference_steps = 12\n",
        "\n",
        "# Pick a value between 1.0 and 15.0:\n",
        "guidance_scale = 5.0\n",
        "\n",
        "# Pick a value between 256 and MAX_IMAGE_SIZE:\n",
        "width = MAX_IMAGE_SIZE\n",
        "\n",
        "# Pick a value between 256 and MAX_IMAGE_SIZE:\n",
        "height = MAX_IMAGE_SIZE\n",
        "\n",
        "images = pipe(\n",
        "    prompt = prompt,\n",
        "    num_inference_steps = num_inference_steps,\n",
        "    intermediate_timesteps = None, # this line is required if num_inference_steps != 2\n",
        "    guidance_scale = guidance_scale,\n",
        "    width = width,\n",
        "    height = height,\n",
        "    generator = torch.Generator(device).manual_seed(seed),\n",
        "    output_type = \"pil\",\n",
        "    ).images\n",
        "\n",
        "print(f\"Prompt:\\t{prompt}\\nSeed:\\t{seed}\")\n",
        "media.show_images(images)\n",
        "images[0].save(\"output.jpg\")"
      ],
      "metadata": {
        "id": "AUc4QJfE-uR9"
      },
      "execution_count": null,
      "outputs": []
    },
    {
      "cell_type": "code",
      "source": [
        "import random\n",
        "import sys\n",
        "import torch\n",
        "from diffusers import SanaSprintPipeline\n",
        "import mediapy as media\n",
        "\n",
        "# Set up model parameters\n",
        "model_size = \"0.6B\"\n",
        "MAX_IMAGE_SIZE = 1024\n",
        "model_id = f\"Efficient-Large-Model/Sana_Sprint_{model_size}_{MAX_IMAGE_SIZE}px_diffusers\"\n",
        "dtype = torch.bfloat16\n",
        "device = \"cuda\"\n",
        "\n",
        "# Load the pre-trained model\n",
        "pipe = SanaSprintPipeline.from_pretrained(\n",
        "    model_id,\n",
        "    torch_dtype=dtype,\n",
        ").to(device)\n",
        "\n",
        "# List of three different prompts\n",
        "prompts = [\n",
        "    \"a photo of Pikachu fine dining with a view to the Eiffel Tower\",\n",
        "    \"a magical forest with glowing mushrooms and fairies flying\",\n",
        "    \"a futuristic city with flying cars and neon signs\"\n",
        "]\n",
        "\n",
        "# Generate images for each prompt\n",
        "for prompt in prompts:\n",
        "    # Set random seed for reproducibility\n",
        "    seed = random.randint(0, sys.maxsize)\n",
        "\n",
        "    # Set generation parameters\n",
        "    num_inference_steps = 12\n",
        "    guidance_scale = 5.0\n",
        "    width = MAX_IMAGE_SIZE\n",
        "    height = MAX_IMAGE_SIZE\n",
        "\n",
        "    # Generate the image\n",
        "    images = pipe(\n",
        "        prompt=prompt,\n",
        "        num_inference_steps=num_inference_steps,\n",
        "        intermediate_timesteps=None,  # This line is required if num_inference_steps != 2\n",
        "        guidance_scale=guidance_scale,\n",
        "        width=width,\n",
        "        height=height,\n",
        "        generator=torch.Generator(device).manual_seed(seed),\n",
        "        output_type=\"pil\",\n",
        "    ).images\n",
        "\n",
        "    # Print details and display the image\n",
        "    print(f\"Prompt:\\t{prompt}\\nSeed:\\t{seed}\")\n",
        "    media.show_images(images)\n",
        "\n",
        "    # Save the generated image\n",
        "    image_filename = f\"output_{prompt[:10].replace(' ', '_')}.jpg\"\n",
        "    images[0].save(image_filename)\n",
        "    print(f\"Saved image as {image_filename}\")"
      ],
      "metadata": {
        "id": "eARQp0tkJZL-"
      },
      "execution_count": null,
      "outputs": []
    }
  ]
}